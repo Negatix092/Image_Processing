{
  "cells": [
    {
      "cell_type": "markdown",
      "metadata": {
        "id": "Qb1SxJiX4m3Z"
      },
      "source": [
        "# Image processing with Python II"
      ]
    },
    {
      "cell_type": "markdown",
      "metadata": {
        "id": "2UuZ2SPX4m3b"
      },
      "source": [
        "- This is a tutorial on the basics of image analysis with Python"
      ]
    },
    {
      "cell_type": "markdown",
      "metadata": {
        "id": "DEQJHsrK4m3b"
      },
      "source": [
        "## 1. Importing Modules & Packages"
      ]
    },
    {
      "cell_type": "markdown",
      "source": [
        "- Import the necesary packages"
      ],
      "metadata": {
        "id": "7djxN7rQ7sD1"
      }
    },
    {
      "cell_type": "markdown",
      "metadata": {
        "id": "jP37PElt4m3d"
      },
      "source": [
        "## 2. Loading Image Data and vizualize\n",
        "\n",
        "*   Load all images in the /data folder (not one by one, but efficiently using a loop or list comprehension).\n",
        "*   Transform the GT to binary mask, if necessary\n",
        "*   Visualize the images using subplots, arranging them in X rows and 2 columns (left column for noisy images and right column for the corresponding ground truth (GT) images).\n",
        "*   Ensure the color bar range is the same for both columns, i.e., use the same color scale for all images."
      ]
    },
    {
      "cell_type": "code",
      "source": [],
      "metadata": {
        "id": "K26tiDrTNM-X"
      },
      "execution_count": null,
      "outputs": []
    },
    {
      "cell_type": "markdown",
      "metadata": {
        "id": "U_WlyLiY4m3e"
      },
      "source": [
        "## 3. Image filtering\n",
        "\n",
        "*   Transform RGB images to gray scale, when necessary.\n",
        "*   Install and use the high-quality denoising method BM3D (Block-Matching and 3D Filtering): https://pypi.org/project/bm3d/.\n",
        "*   Use Gaussing bluring for denoising too.\n",
        "*   Use widgets for the interactive selection of the parameters and select the best values for two selected images. In other words, find the parameters that blur out the noise while keeping the structures of interest.\n",
        "*   Visualize the best results using subplots. For each image, display:\n",
        "    - The noisy image.\n",
        "    - The results of the two filtering methods.\n",
        "*   Ensure the color bar range is the same for both columns, i.e., use the same color scale for all images.\n",
        "*   Estimate the Blind/Referenceless Image Spatial Quality Evaluator (BRISQUE) (https://pypi.org/project/brisque/) and print the values over the corresponding images.\n",
        "*   Make a comparative plot of the BRISQUE values (i.e. boxplot) for the raw image, and the results of the two filtering methods.\n",
        "*   Conclude which one is the best method for denoising in your dataset"
      ]
    },
    {
      "cell_type": "markdown",
      "metadata": {
        "id": "TR-kTjnX4m3f"
      },
      "source": [
        "  "
      ]
    },
    {
      "cell_type": "code",
      "source": [],
      "metadata": {
        "id": "Omr1dRq2BX62"
      },
      "execution_count": null,
      "outputs": []
    },
    {
      "cell_type": "markdown",
      "source": [
        "## 4. Image Segmentation\n",
        "*   Sgemnetd teh images after denoising using: manual thresholding, automatic threholding (i.e. Otsu) and adaptative thresholding (i.e. estimated background and substract form the image, then binarize).\n",
        "*   Use widgets for the interactive selection of the manual threshold and choose the best values for 2 selected images.\n",
        "*   Visualize the results using subplots. For each image, display:\n",
        "    - The denoised image.\n",
        "    - The corresponding mask (GT).\n",
        "    - The results of the three segmentation methods.\n",
        "*    Calulate the accuracy, precision, recall, f1 and dice coefficient for all images and print them over them in the plot\n",
        "*    Make a comparative plots of ecah metric for all the results of the segmentation methods.\n",
        "*   Conclude which one is the best method for segmentation in your dataset\n",
        "\n"
      ],
      "metadata": {
        "id": "pCNxHkYIBYJD"
      }
    },
    {
      "cell_type": "code",
      "source": [],
      "metadata": {
        "id": "XyiK2XbAC-1H"
      },
      "execution_count": null,
      "outputs": []
    },
    {
      "cell_type": "markdown",
      "source": [
        "## 5. Morphological operations"
      ],
      "metadata": {
        "id": "7RjdWJ_JC_bx"
      }
    },
    {
      "cell_type": "markdown",
      "source": [
        "*   Apply differnte morphological operations, i.e. closing, opening and filling holes to the best segmention images obtained in 4.\n",
        "*   Visualize the best results using subplots. For each image, display:\n",
        "    - The noisy image.\n",
        "    - The corresponding ground truth (GT).\n",
        "    - Best segmented images (from 4).\n",
        "    - Segmented images after the morphological operations.\n",
        "*   Calulate the accuracy, precision, recall, f1 and dice coefficient for all image segmentations and print them over them in the plot\n",
        "*    Make a comparative plots of ecah metric for all the results of the morphological operations.\n",
        "*   Conclude which one is the best method for your dataset"
      ],
      "metadata": {
        "id": "61HkQwBdDRVV"
      }
    }
  ],
  "metadata": {
    "kernelspec": {
      "display_name": "Python 3 (ipykernel)",
      "language": "python",
      "name": "python3"
    },
    "language_info": {
      "codemirror_mode": {
        "name": "ipython",
        "version": 3
      },
      "file_extension": ".py",
      "mimetype": "text/x-python",
      "name": "python",
      "nbconvert_exporter": "python",
      "pygments_lexer": "ipython3",
      "version": "3.7.11"
    },
    "colab": {
      "provenance": []
    }
  },
  "nbformat": 4,
  "nbformat_minor": 0
}