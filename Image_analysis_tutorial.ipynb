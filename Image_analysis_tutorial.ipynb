{
  "cells": [
    {
      "cell_type": "markdown",
      "metadata": {
        "id": "Qb1SxJiX4m3Z"
      },
      "source": [
        "# Image processing with Python"
      ]
    },
    {
      "cell_type": "markdown",
      "metadata": {
        "id": "2UuZ2SPX4m3b"
      },
      "source": [
        "- This is a tutorial on the basics of image analysis with Python"
      ]
    },
    {
      "cell_type": "markdown",
      "metadata": {
        "id": "DEQJHsrK4m3b"
      },
      "source": [
        "## 1. Importing Modules & Packages"
      ]
    },
    {
      "cell_type": "markdown",
      "source": [
        "- Import the necesary packages"
      ],
      "metadata": {
        "id": "7djxN7rQ7sD1"
      }
    },
    {
      "cell_type": "markdown",
      "metadata": {
        "id": "jP37PElt4m3d"
      },
      "source": [
        "## 2. Loading Image Data and vizualize\n",
        "\n",
        "*   Load all images in the /data folder (not one by one, but efficiently using a loop or list comprehension).\n",
        "*   Visualize the images using subplots, arranging them in 5 rows and 2 columns (left column for noisy images and right column for the corresponding ground truth (GT) images).\n",
        "*   Ensure the color bar range is the same for both columns, i.e., use the same color scale for all images."
      ]
    },
    {
      "cell_type": "code",
      "source": [],
      "metadata": {
        "id": "K26tiDrTNM-X"
      },
      "execution_count": null,
      "outputs": []
    },
    {
      "cell_type": "markdown",
      "metadata": {
        "id": "U_WlyLiY4m3e"
      },
      "source": [
        "## 3. Spatial filtering"
      ]
    },
    {
      "cell_type": "markdown",
      "metadata": {
        "id": "TR-kTjnX4m3f"
      },
      "source": [
        "### Low pass Filtering\n",
        "\n",
        "*   Select  two low-pass filters of your choice.\n",
        "*   Use widgets for the interactive selection of the parameters and select the best values for img4 and img5 (independently). In other words, find the parameters that blur out the noise while keeping the structures of interest.\n",
        "*  Calulate the RMSE and SSIM (Structural Similarity Index Measure) between the noisy image and the reulst of teh filtering with respect to the GT.\n",
        "*   Visualize the best results using subplots. For each image, display:\n",
        "    - The noisy image.\n",
        "    - The corresponding ground truth (GT).\n",
        "    - The results of the two filtering methods.\n",
        "*   Ensure the color bar range is the same for both columns, i.e., use the same color scale for all images.\n",
        "*   Print the values of RMSE and SSIM on teh corresponding images.   "
      ]
    },
    {
      "cell_type": "code",
      "source": [],
      "metadata": {
        "id": "ZKfNEIe8BRXC"
      },
      "execution_count": null,
      "outputs": []
    },
    {
      "cell_type": "markdown",
      "source": [
        "### High pass Filtering\n",
        "\n",
        "*   Select two high-pass filters of your choice.\n",
        "*   Use widgets for the interactive selection of the parameters and choose the best values for img1 and img3 (independently). In other words, find the parameters that remove low-frequency noise while preserving the high-frequency structures of interest.\n",
        "*   Visualize the results using subplots. For each image, display:\n",
        "    - The noisy image.\n",
        "    - The results of the two filtering methods.\n",
        "*   Repeat the procesing for img1_GT and img3_GT. For img1_GT, first invert the image, i.e using the operaton img = 255 - img.\n",
        "*   Calulate the Peak-Signal-To-Noise-Ratio (PSNR) for all images and print them over them in the plot"
      ],
      "metadata": {
        "id": "UZ6UQJa0A29L"
      }
    },
    {
      "cell_type": "code",
      "source": [],
      "metadata": {
        "id": "Omr1dRq2BX62"
      },
      "execution_count": null,
      "outputs": []
    },
    {
      "cell_type": "markdown",
      "source": [
        "## 4. Border detection\n",
        "*   Apply Sobel, Prewitt y Canny methods for edge detection to the images\n",
        "*   Use widgets for the interactive selection of the parameters and choose the best values for img1 and img3 (independently) , i.e. for the Canny method\n",
        "*   Visualize the results using subplots. For each image, display:\n",
        "    - The noisy image.\n",
        "    - The corresponding ground truth (GT).\n",
        "    - The results of the two filtering methods.\n",
        "*   Repeat the processing in the images after noise removal (i.e. after applying a low-pass filter) and compare the results.\n",
        "*   Calulate the Peak-Signal-To-Noise-Ratio (PSNR) for all images and print them over them in the plot\n",
        "\n"
      ],
      "metadata": {
        "id": "pCNxHkYIBYJD"
      }
    },
    {
      "cell_type": "code",
      "source": [],
      "metadata": {
        "id": "XyiK2XbAC-1H"
      },
      "execution_count": null,
      "outputs": []
    },
    {
      "cell_type": "markdown",
      "source": [
        "## 4. Filtering in the frequency domain"
      ],
      "metadata": {
        "id": "7RjdWJ_JC_bx"
      }
    },
    {
      "cell_type": "markdown",
      "source": [
        "### Low pass Filtering\n",
        "\n",
        "*   Use the FFT to create a low-pass for images img4 and img5.\n",
        "*   Use widgets for the interactive selection of the parameters and select the best values for img4 and img5 (independently).\n",
        "*  Calulate the RMSE and SSIM (Structural Similarity Index Measure) between the noisy image and the results of the filtering with respect to the GT.\n",
        "*   Visualize the best results using subplots. For each image, display:\n",
        "    - The noisy image.\n",
        "    - The corresponding ground truth (GT).\n",
        "    - The results of the filtering.\n",
        "*   Ensure the color bar range is the same for both columns, i.e., use the same color scale for all images.\n",
        "*   Print the values of RMSE and SSIM on the corresponding images.     "
      ],
      "metadata": {
        "id": "61HkQwBdDRVV"
      }
    },
    {
      "cell_type": "code",
      "source": [],
      "metadata": {
        "id": "ugvQ1NorNO6m"
      },
      "execution_count": null,
      "outputs": []
    },
    {
      "cell_type": "markdown",
      "source": [
        "### High pass Filtering\n",
        "\n",
        "*   Use the FFT to create a high-pass for images img1 and img3.\n",
        "*   Use widgets for the interactive selection of the parameters and choose the best values for img1 and img3 (independently).\n",
        "*   Visualize the results using subplots. For each image, display:\n",
        "    - The noisy image.\n",
        "    - The results of the filtering .\n",
        "*   Repeat the procesing for img1_GT and img3_GT. For img1_GT, first invert the image, i.e using the operaton img = 255 - img.\n",
        "*   Calulate the Peak-Signal-To-Noise-Ratio (PSNR) for all images and print them over them in the plot"
      ],
      "metadata": {
        "id": "Ex2cwgQ9Fgok"
      }
    },
    {
      "cell_type": "code",
      "source": [],
      "metadata": {
        "id": "-WjsKqeQC_Hb"
      },
      "execution_count": null,
      "outputs": []
    },
    {
      "cell_type": "markdown",
      "source": [
        "## 5. Results comparison\n",
        "\n",
        "\n",
        "\n",
        "1.   Plot the results of all low-pass filters in a single figure for img4 and img5, as well as the original image and the GT\n",
        "*   Print on each image the values of PSNR, RMSE and SSIM accordingly\n",
        "\n",
        "2.   Plot the results of all high-pass filters in a single figure for img1 and img3, as well as the original image\n",
        "*   Print on each image the values of PSNR accordingly"
      ],
      "metadata": {
        "id": "ATYqUzCPGHgb"
      }
    },
    {
      "cell_type": "code",
      "source": [],
      "metadata": {
        "id": "M0Ee5xvkNPta"
      },
      "execution_count": null,
      "outputs": []
    },
    {
      "cell_type": "markdown",
      "source": [
        "## 6. Evaluation in a complete dataset\n",
        "\n",
        "\n",
        "\n",
        "*   Download the complete dataset from https://drive.google.com/file/d/1SxBDH2PCs8J0ifWpohOe5RSjS6R5-Ysx/view?usp=sharing\n",
        "*   Apply the 3 low-pass filters used here with the 'best' parameters foeund before to all images in teh folder 'images'\n",
        "*   Calculate the RMSE and SSIM relative to the corresponding GT images\n",
        "*   Plot the results as box plots or violin plots for the noisy images and resulst of the 3 filtering methods.\n",
        "*   Calulate the PSNR for all images, i.e. GT, noisy, and filtered\n",
        "*   Plot the results as box plots or violin plots\n",
        "\n",
        "\n"
      ],
      "metadata": {
        "id": "uyc-Zi8JILi8"
      }
    },
    {
      "cell_type": "code",
      "source": [],
      "metadata": {
        "id": "5gAZrC8TNQcj"
      },
      "execution_count": null,
      "outputs": []
    },
    {
      "cell_type": "markdown",
      "source": [
        "## Example of a widget implementation for Interactive parameter selection"
      ],
      "metadata": {
        "id": "gnKLeePHIIs4"
      }
    },
    {
      "cell_type": "code",
      "source": [
        "# NumPy :  manipulation of numerical arrays:\n",
        "import numpy as np\n",
        "\n",
        "# The plotting module matplotlib.pyplot as plt\n",
        "import matplotlib.pyplot as plt\n",
        "\n",
        "# The image processing package scipy.ndimage as ndi\n",
        "import scipy.ndimage as ndi"
      ],
      "metadata": {
        "id": "QjvUD-5xKHSZ"
      },
      "execution_count": null,
      "outputs": []
    },
    {
      "cell_type": "code",
      "source": [
        "from google.colab import drive\n",
        "drive.mount('/content/drive')\n",
        "\n",
        "filename = r'cells_2D.tif'\n",
        "dirpath = r'/content/drive/MyDrive/IntroBioImageAnalysis-main/'\n",
        "from os.path import join\n",
        "filepath = join(dirpath, filename)\n",
        "from skimage.io import imread\n",
        "img = imread(filepath)\n"
      ],
      "metadata": {
        "id": "BOe0VT3qKIgn"
      },
      "execution_count": null,
      "outputs": []
    },
    {
      "cell_type": "code",
      "execution_count": null,
      "metadata": {
        "id": "s81i3_DZ4m3f"
      },
      "outputs": [],
      "source": [
        "# Function to plot pairs of images\n",
        "\n",
        "def pltPair(img1, img2, title1, title2, cmap1, cmap2, lim):\n",
        "    \"\"\"This function displays a pair of input image with interpolation='none',in the range of lims. \"\"\"\n",
        "\n",
        "    plt.figure(figsize=(16,16))\n",
        "    plt.subplot(1,2,1)\n",
        "    plt.imshow(img1, interpolation='none', cmap=cmap1, vmin=lim[0], vmax=lim[1])\n",
        "    plt.title(title1)\n",
        "    plt.colorbar(fraction=0.046, pad=0.04)\n",
        "    plt.subplot(1,2,2)\n",
        "    plt.imshow(img2, interpolation='none', cmap=cmap2, vmin=lim[2], vmax=lim[3])\n",
        "    plt.title(title2)\n",
        "    plt.colorbar(fraction=0.046, pad=0.04)\n",
        "    plt.show()"
      ]
    },
    {
      "cell_type": "code",
      "execution_count": null,
      "metadata": {
        "id": "b1hPZWrw4m3g"
      },
      "outputs": [],
      "source": [
        "# Try out different thresholds to find the best one using 'widgets' for interactive selection\n",
        "\n",
        "# Prepare widget\n",
        "from ipywidgets import interact\n",
        "@interact(sigma=(1,40,1))\n",
        "def select_threshold(sigma=1):\n",
        "\n",
        "    # Smoothing\n",
        "    img_smooth = ndi.gaussian_filter(img, sigma)\n",
        "\n",
        "    # Visualization\n",
        "    pltPair(img, img_smooth, 'Raw Image', 'Smoothed Image with sigma =' + str(sigma), 'magma', 'magma', [0,255,0,255])\n",
        "\n"
      ]
    },
    {
      "cell_type": "markdown",
      "metadata": {
        "id": "7LtMswH44m3g"
      },
      "source": [
        "----\n",
        "\n",
        "*For some users, it is necessary to specifically activate the widgets plugin for Jupyter notebook. To do so, save and exit Jupyter notebook, then go to a terminal and write `jupyter nbextension enable --py --sys-prefix widgetsnbextension`."
      ]
    }
  ],
  "metadata": {
    "kernelspec": {
      "display_name": "Python 3 (ipykernel)",
      "language": "python",
      "name": "python3"
    },
    "language_info": {
      "codemirror_mode": {
        "name": "ipython",
        "version": 3
      },
      "file_extension": ".py",
      "mimetype": "text/x-python",
      "name": "python",
      "nbconvert_exporter": "python",
      "pygments_lexer": "ipython3",
      "version": "3.7.11"
    },
    "colab": {
      "provenance": []
    }
  },
  "nbformat": 4,
  "nbformat_minor": 0
}